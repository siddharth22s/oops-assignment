{
  "nbformat": 4,
  "nbformat_minor": 0,
  "metadata": {
    "colab": {
      "provenance": []
    },
    "kernelspec": {
      "name": "python3",
      "display_name": "Python 3"
    },
    "language_info": {
      "name": "python"
    }
  },
  "cells": [
    {
      "cell_type": "markdown",
      "source": [
        "# oops theory  questions"
      ],
      "metadata": {
        "id": "QbyrbSZC3dJq"
      }
    },
    {
      "cell_type": "markdown",
      "source": [
        "**1. What is Object-Oriented Programming (OOP)?**"
      ],
      "metadata": {
        "id": "hLkN6kEGIPQb"
      }
    },
    {
      "cell_type": "markdown",
      "source": [
        "- Object-Oriented Programming (OOP) is a programming approach that organizes code using \"objects,\" which are instances of classes. It emphasizes four main concepts:\n",
        "\n",
        "1. Encapsulation >> Bundling data and methods inside objects.\n",
        "\n",
        "2. Abstraction >> Hiding complex details, exposing only necessary functionality.\n",
        "\n",
        "3. Inheritance >> Reusing properties and behaviors from existing classes.\n",
        "\n",
        "4. Polymorphism >> Allowing different objects to be used interchangeably."
      ],
      "metadata": {
        "id": "PtafqM7aIYSb"
      }
    },
    {
      "cell_type": "markdown",
      "source": [
        "**2. What is a class in OOP?**"
      ],
      "metadata": {
        "id": "giqMAkc3oZnr"
      }
    },
    {
      "cell_type": "markdown",
      "source": [
        "- A class in Object-Oriented Programming (OOP) is a blueprint for creating objects. It defines the attributes (data) and methods (functions) that objects of that class will have."
      ],
      "metadata": {
        "id": "kzl7bHKbozAm"
      }
    },
    {
      "cell_type": "markdown",
      "source": [
        "**3. What is an object in OOP?**"
      ],
      "metadata": {
        "id": "hMYszlWso2cX"
      }
    },
    {
      "cell_type": "markdown",
      "source": [
        "- An object in Object-Oriented Programming (OOP) is an instance of a class. It has attributes (data) and methods (functions) that define its behavior"
      ],
      "metadata": {
        "id": "kSJL2RKVpHto"
      }
    },
    {
      "cell_type": "markdown",
      "source": [
        "**4. What is the difference between abstraction and encapsulation?**"
      ],
      "metadata": {
        "id": "oy3oBjrSpJ9U"
      }
    },
    {
      "cell_type": "markdown",
      "source": [
        "- Encapsulation is about restricting direct access to certain details of an object and bundling data with methods that operate on it. It ensures data security and prevents unintended modifications."
      ],
      "metadata": {
        "id": "Vqxd3UfTpM6R"
      }
    },
    {
      "cell_type": "markdown",
      "source": [
        "**5. What are dunder methods in Python?**"
      ],
      "metadata": {
        "id": "qKhwiYPvpOkg"
      }
    },
    {
      "cell_type": "markdown",
      "source": [
        "-Dunder methods (short for \"double underscore\" methods) in Python are special methods that start and end with double underscores (__). They allow objects to interact with built-in Python operations like arithmetic, comparisons, and string representations."
      ],
      "metadata": {
        "id": "bJR9WliIpRjA"
      }
    },
    {
      "cell_type": "markdown",
      "source": [
        "**6. Explain the concept of inheritance in OOP.**"
      ],
      "metadata": {
        "id": "kEq39OKZpaB5"
      }
    },
    {
      "cell_type": "markdown",
      "source": [
        "- Inheritance in Object-Oriented Programming (OOP) allows a class (child class) to inherit properties and behaviors from another class (parent class). This promotes code reusability and helps in creating a structured hierarchy.\n",
        "\n",
        "Key Points:\n",
        "\n",
        "1. Parent Class (Superclass) → The existing class whose attributes and methods are inherited.\n",
        "\n",
        "2. Child Class (Subclass) → The new class that inherits from the parent class.\n",
        "\n",
        "3. Method Overriding → The child class can modify inherited methods.\n",
        "\n",
        "4. Code Reusability → Avoids redundant code by reusing existing functionality."
      ],
      "metadata": {
        "id": "i3PAKGS7peya"
      }
    },
    {
      "cell_type": "markdown",
      "source": [
        "**7. What is polymorphism in OOP?**"
      ],
      "metadata": {
        "id": "vsNFBrQCpfnw"
      }
    },
    {
      "cell_type": "markdown",
      "source": [
        "- Polymorphism in Object-Oriented Programming (OOP) allows objects of different classes to be treated as objects of a common superclass. It enables the same method or function to behave differently based on the object calling it."
      ],
      "metadata": {
        "id": "ZxhKjNYJpkPY"
      }
    },
    {
      "cell_type": "markdown",
      "source": [
        "**8. How is encapsulation achieved in Python?**"
      ],
      "metadata": {
        "id": "wcDwFgG_plUv"
      }
    },
    {
      "cell_type": "markdown",
      "source": [
        "- Encapsulation in Python is achieved by restricting direct access to an object's data and methods while allowing controlled interaction through defined interfaces. This is done using access modifiers"
      ],
      "metadata": {
        "id": "Fe23zaBhpolv"
      }
    },
    {
      "cell_type": "markdown",
      "source": [
        "**9. What is a constructor in Python**"
      ],
      "metadata": {
        "id": "5RYRVQupppgK"
      }
    },
    {
      "cell_type": "markdown",
      "source": [
        "- A constructor in Python is a special method used to initialize objects when they are created from a class. It is defined using the __init__() method and automatically runs when an object is instantiated."
      ],
      "metadata": {
        "id": "m90gzoekpsz9"
      }
    },
    {
      "cell_type": "markdown",
      "source": [
        "**10. What are class and static methods in Python**"
      ],
      "metadata": {
        "id": "LG-tkHpvptd1"
      }
    },
    {
      "cell_type": "markdown",
      "source": [
        "- Class methods and static methods in Python are special types of methods that belong to a class rather than an instance of the class."
      ],
      "metadata": {
        "id": "vsZhF8h8pwLC"
      }
    },
    {
      "cell_type": "markdown",
      "source": [
        "**11. What is method overloading in Python?**"
      ],
      "metadata": {
        "id": "nvxYPwcZsd53"
      }
    },
    {
      "cell_type": "markdown",
      "source": [
        " - Method overloading in Python refers to defining multiple methods with the same name but different parameters. However, Python does not support true method overloading like languages such as Java or C++. Instead, Python allows achieving similar behavior using default arguments or the *args and **kwargs parameters"
      ],
      "metadata": {
        "id": "d_aAdN-5slGB"
      }
    },
    {
      "cell_type": "markdown",
      "source": [
        "**12. What is method overriding in OOP?**"
      ],
      "metadata": {
        "id": "i7oXxTrAsltd"
      }
    },
    {
      "cell_type": "markdown",
      "source": [
        "- Method overriding in OOP allows a child class to redefine a method from its parent class to provide a specific implementation. This enables polymorphism, where the same method behaves differently based on the object calling it."
      ],
      "metadata": {
        "id": "WCoVI9WesnLH"
      }
    },
    {
      "cell_type": "markdown",
      "source": [
        "**13. What is a property decorator in Python?**"
      ],
      "metadata": {
        "id": "Iz4xEP9Tsnl3"
      }
    },
    {
      "cell_type": "markdown",
      "source": [
        "- The @property decorator in Python is used to define getter, setter, and deleter methods for a class attribute in a clean and readable way. It allows controlled access to private attributes while maintaining a simple syntax."
      ],
      "metadata": {
        "id": "ZDGfKJf3sqkT"
      }
    },
    {
      "cell_type": "markdown",
      "source": [
        "**14. Why is polymorphism important in OOP?**"
      ],
      "metadata": {
        "id": "YW4nCyQdsoWV"
      }
    },
    {
      "cell_type": "markdown",
      "source": [
        "- Polymorphism is important in Object-Oriented Programming (OOP) because it allows the same method or function to work differently based on the object calling it. This makes code more flexible, reusable, and scalable."
      ],
      "metadata": {
        "id": "eO-MKJ5UssOp"
      }
    },
    {
      "cell_type": "markdown",
      "source": [
        "**15. What is an abstract class in Python?**"
      ],
      "metadata": {
        "id": "jF2co5Xass2Z"
      }
    },
    {
      "cell_type": "markdown",
      "source": [
        "- An abstract class in Python is a class that cannot be instantiated on its own and serves as a blueprint for other classes. It defines abstract methods that must be implemented by its subclasses."
      ],
      "metadata": {
        "id": "898lCwc_syNz"
      }
    },
    {
      "cell_type": "markdown",
      "source": [
        "**16. What are the advantages of OOP?**"
      ],
      "metadata": {
        "id": "vNU-QsoIsyl7"
      }
    },
    {
      "cell_type": "markdown",
      "source": [
        "Object-Oriented Programming (OOP) offers several advantages that make software development more efficient and scalable:\n",
        "\n",
        "1. Code Reusability > Inheritance allows classes to reuse existing code, reducing duplication.\n",
        "\n",
        "2. Modularity > Code is organized into objects, making it easier to manage and modify.\n",
        "\n",
        "3. Encapsulation > Protects data by restricting direct access, improving security.\n",
        "\n",
        "4. Abstraction > Hides complex implementation details, exposing only necessary functionality.\n",
        "\n",
        "5. Polymorphism > Enables flexibility by allowing different objects to use the same interface.\n",
        "\n",
        "6. Scalability > OOP makes it easier to expand and maintain large applications.\n",
        "\n",
        "7. Improved Collaboration > Teams can work on different classes independently without conflicts."
      ],
      "metadata": {
        "id": "drBjiJtFsza-"
      }
    },
    {
      "cell_type": "markdown",
      "source": [
        "**17. What is the difference between a class variable and an instance variable?**"
      ],
      "metadata": {
        "id": "PPZ53XwUs0fl"
      }
    },
    {
      "cell_type": "markdown",
      "source": [
        "- A class variable is shared among all instances of a class, while an instance variable is unique to each object.\n",
        "\n",
        "#class variable\n",
        "\n",
        "1. scope > shared across all objects\n",
        "2. define in > inside the class, outside methods\n",
        "3. access > accessed using className.variable\n",
        "4. modification> chabges affect all instances\n",
        "\n",
        "\n",
        "#instance variable\n",
        "\n",
        "\n",
        "1. scope > unique to each object\n",
        "2. define in > inside the __init__() method\n",
        "3. access > Accessed using self.variable\n",
        "4. modification > changes affected only the specific object"
      ],
      "metadata": {
        "id": "4dOrQW1is3wF"
      }
    },
    {
      "cell_type": "markdown",
      "source": [
        "**18. What is multiple inheritance in Python**"
      ],
      "metadata": {
        "id": "V38ZYMSas4CD"
      }
    },
    {
      "cell_type": "markdown",
      "source": [
        "- Multiple inheri88tance in Python allows a class to inherit from more than one parent class. This means the child class gets attributes and methods from multiple sources."
      ],
      "metadata": {
        "id": "hut-A8kzs4y2"
      }
    },
    {
      "cell_type": "markdown",
      "source": [
        "**19. Explain the purpose of ‘’__str__’ and ‘__repr__’ ‘ methods in Python.**"
      ],
      "metadata": {
        "id": "bEozG9PMs5rh"
      }
    },
    {
      "cell_type": "markdown",
      "source": [
        "- In Python, __str__() and __repr__() are dunder methods used to define string representations of objects.\n",
        "\n",
        "**__str__()**\t>>> Returns a human-readable string representation of an object (used for printing).\n",
        "\n",
        "\n",
        "**__repr__()** >>>\tReturns a developer-friendly representation (used for debugging and object recreation)."
      ],
      "metadata": {
        "id": "0n5odzT4s6u_"
      }
    },
    {
      "cell_type": "markdown",
      "source": [
        "**20. What is the significance of the ‘super()’ function in Python?**"
      ],
      "metadata": {
        "id": "sjCPUxtus9AM"
      }
    },
    {
      "cell_type": "markdown",
      "source": [
        "- The super() function in Python is used to call methods from a parent class inside a child class. It helps in method overriding and avoids redundant code."
      ],
      "metadata": {
        "id": "na77oBYLs-EW"
      }
    },
    {
      "cell_type": "markdown",
      "source": [
        "**21. What is the significance of the __del__ method in Python?**"
      ],
      "metadata": {
        "id": "dNf4e7jbs-lB"
      }
    },
    {
      "cell_type": "markdown",
      "source": [
        "- The __del__ method in Python is a special method (also called a destructor) that is automatically called when an object is about to be destroyed by the garbage collector. It is mainly used for cleanup tasks, such as closing files, releasing memory, or disconnecting from databases."
      ],
      "metadata": {
        "id": "ARkPH1m3s_dQ"
      }
    },
    {
      "cell_type": "markdown",
      "source": [
        "**22. What is the difference between @staticmethod and @classmethod in Python?**"
      ],
      "metadata": {
        "id": "cEfzj8T_tATs"
      }
    },
    {
      "cell_type": "markdown",
      "source": [
        "- Both @staticmethod and @classmethod are used to define methods inside a class, but they serve different purposes.\n",
        "\n",
        "**@staticmethod**>>\n",
        "\n",
        "Does not use self or cls.\n",
        "\n",
        "Cannot modify class or instance attributes.\n",
        "\n",
        "Used for utility functions related to the class.\n",
        "\n",
        "**@classmethod**>>\n",
        "\n",
        "Takes cls as the first parameter.\n",
        "\n",
        "Can modify class-level attributes.\n",
        "\n",
        "Used for factory methods or modifying class data."
      ],
      "metadata": {
        "id": "uWBj9DW3tmGR"
      }
    },
    {
      "cell_type": "markdown",
      "source": [
        "**23. How does polymorphism work in Python with inheritance?**"
      ],
      "metadata": {
        "id": "qSa_EqwvtmqX"
      }
    },
    {
      "cell_type": "markdown",
      "source": [
        "- Polymorphism allows methods in different classes to share the same name but perform different tasks. When combined with inheritance, it enables child classes to override methods from a parent class while maintaining a common interface."
      ],
      "metadata": {
        "id": "B5TZ_5zIt3nh"
      }
    },
    {
      "cell_type": "markdown",
      "source": [
        "**24. What is method chaining in Python OOP?**"
      ],
      "metadata": {
        "id": "0jW7jHWIt4TE"
      }
    },
    {
      "cell_type": "markdown",
      "source": [
        "- Method chaining is a technique where multiple methods are called sequentially on the same object in a single line of code. Each method returns the object itself (self), allowing further method calls."
      ],
      "metadata": {
        "id": "OkOSqrLat64T"
      }
    },
    {
      "cell_type": "markdown",
      "source": [
        "**25. What is the purpose of the __call__ method in Python?**"
      ],
      "metadata": {
        "id": "T2z1pWSGt7xM"
      }
    },
    {
      "cell_type": "markdown",
      "source": [
        "- The __call__ method in Python allows an instance of a class to be called like a function. When a class defines __call__(), its objects can be invoked using parentheses, just like regular functions.\n",
        "\n",
        "\n",
        "**key features:**\n",
        "1. Makes objects callable, behaving like functions.\n",
        "\n",
        "2. Useful for stateful objects, decorators, and flexible APIs.\n",
        "\n",
        "3. Helps in function-like behavior within classes."
      ],
      "metadata": {
        "id": "no2ZIZWit_C2"
      }
    },
    {
      "cell_type": "markdown",
      "source": [
        "# oops practical questions"
      ],
      "metadata": {
        "id": "Z0Y4eDVf3aOX"
      }
    },
    {
      "cell_type": "markdown",
      "source": [
        "**1. Create a parent class Animal with a method speak() that prints a generic message. Create a child class Dog\n",
        "that overrides the speak() method to print \"Bark!\".**"
      ],
      "metadata": {
        "id": "2ChtXLQ630j5"
      }
    },
    {
      "cell_type": "code",
      "source": [
        "class animal:\n",
        "      def speak (self):\n",
        "          print(\"i make sound\")\n",
        "\n",
        "class dog(animal):\n",
        "    def speak(self):\n",
        "        print(\"bark!\")\n",
        "\n",
        "animal = animal()\n",
        "dog = dog()\n",
        "\n",
        "animal.speak()\n",
        "dog.speak()\n"
      ],
      "metadata": {
        "colab": {
          "base_uri": "https://localhost:8080/"
        },
        "id": "JyBtswcR4sGa",
        "outputId": "026ae8b4-924b-43b7-b75f-0d9a7dbc5f4d"
      },
      "execution_count": 1,
      "outputs": [
        {
          "output_type": "stream",
          "name": "stdout",
          "text": [
            "i make sound\n",
            "bark!\n"
          ]
        }
      ]
    },
    {
      "cell_type": "markdown",
      "source": [
        "**2. Write a program to create an abstract class Shape with a method area(). Derive classes Circle and Rectangle\n",
        "from it and implement the area() method in both.**"
      ],
      "metadata": {
        "id": "-nvFH8GX5fqA"
      }
    },
    {
      "cell_type": "code",
      "source": [
        "from pathlib import WindowsPath\n",
        "from abc import ABC, abstractmethod\n",
        "\n",
        "class shape (ABC):\n",
        "  @abstractmethod\n",
        "  def area(self):\n",
        "      pass\n",
        "class circle(shape):\n",
        "   def __init__(self,radius):\n",
        "       self.radius = radius\n",
        "   def area(self):\n",
        "       return 3.14*self.radius**2\n",
        "class rectangle(shape):\n",
        "   def __init__(self,width, height):\n",
        "      self.width = width\n",
        "      self.height = height\n",
        "\n",
        "   def area(self):\n",
        "       return self.width * self.height\n",
        "\n",
        "circle = circle(5)\n",
        "rectangle = rectangle(4,6)\n",
        "\n",
        "print(\"area of circle:\",circle.area())\n",
        "print(\"area of reactangle:\",rectangle.area())\n"
      ],
      "metadata": {
        "colab": {
          "base_uri": "https://localhost:8080/"
        },
        "id": "49uHCJaY5x2J",
        "outputId": "0bb9c266-dc5f-40c9-f31f-0ab59de35211"
      },
      "execution_count": 5,
      "outputs": [
        {
          "output_type": "stream",
          "name": "stdout",
          "text": [
            "area of circle: 78.5\n",
            "area of reactangle: 24\n"
          ]
        }
      ]
    },
    {
      "cell_type": "markdown",
      "source": [
        "**3. Implement a multi-level inheritance scenario where a class Vehicle has an attribute type. Derive a class Car\n",
        "and further derive a class ElectricCar that adds a battery attribute.**"
      ],
      "metadata": {
        "id": "XnMR1iw49FSX"
      }
    },
    {
      "cell_type": "code",
      "source": [
        "class Vehicle:\n",
        "    def __init__(self, type):\n",
        "        self.type = type\n",
        "\n",
        "    def show_type(self):\n",
        "        return f\"Vehicle Type: {self.type}\"\n",
        "\n",
        "class Car(Vehicle):\n",
        "    def __init__(self, type, brand):\n",
        "        super().__init__(type)  # Calling parent class constructor\n",
        "        self.brand = brand\n",
        "\n",
        "    def show_brand(self):\n",
        "        return f\"Car Brand: {self.brand}\"\n",
        "\n",
        "class ElectricCar(Car):\n",
        "    def __init__(self, type, brand, battery):\n",
        "        super().__init__(type, brand)\n",
        "        self.battery = battery\n",
        "\n",
        "    def show_battery(self):\n",
        "        return f\"Battery Capacity: {self.battery} kWh\"\n",
        "my_car = ElectricCar(\"Sedan\", \"Tesla\", 75)\n",
        "\n",
        "print(my_car.show_type())\n",
        "print(my_car.show_brand())\n",
        "print(my_car.show_battery())\n"
      ],
      "metadata": {
        "id": "nA5r6Tw79NXS"
      },
      "execution_count": null,
      "outputs": []
    },
    {
      "cell_type": "markdown",
      "source": [
        "**4. Demonstrate polymorphism by creating a base class Bird with a method fly(). Create two derived classes\n",
        "Sparrow and Penguin that override the fly() method.**"
      ],
      "metadata": {
        "id": "VoyOIKv4-LQs"
      }
    },
    {
      "cell_type": "code",
      "source": [
        "class Bird:\n",
        "    def fly(self):\n",
        "        return \"I can fly!\"\n",
        "\n",
        "class Sparrow(Bird):\n",
        "    def fly(self):  # Overriding fly() method\n",
        "        return \"I fly swiftly!\"\n",
        "\n",
        "class Penguin(Bird):\n",
        "    def fly(self):  # Overriding fly() method\n",
        "        return \"I cannot fly, I waddle!\"\n",
        "\n",
        "birds = [Sparrow(), Penguin()]\n",
        "for bird in birds:\n",
        "    print(bird.fly())"
      ],
      "metadata": {
        "colab": {
          "base_uri": "https://localhost:8080/"
        },
        "id": "INnKmRnk-OK1",
        "outputId": "864eadfb-205d-41f3-eede-2a1db0360e94"
      },
      "execution_count": 6,
      "outputs": [
        {
          "output_type": "stream",
          "name": "stdout",
          "text": [
            "I fly swiftly!\n",
            "I cannot fly, I waddle!\n"
          ]
        }
      ]
    },
    {
      "cell_type": "markdown",
      "source": [
        "5. Write a program to demonstrate encapsulation by creating a class BankAccount with private attributes\n",
        "balance and methods to deposit, withdraw, and check balance."
      ],
      "metadata": {
        "id": "p-VVHEAO-ese"
      }
    },
    {
      "cell_type": "code",
      "source": [
        "class BankAccount:\n",
        "    def __init__(self, initial_balance):\n",
        "        self.__balance = initial_balance  # Private attribute\n",
        "\n",
        "    def deposit(self, amount):\n",
        "        if amount > 0:\n",
        "            self.__balance += amount\n",
        "            print(f\"Deposited: {amount}\")\n",
        "        else:\n",
        "            print(\"Deposit amount must be positive.\")\n",
        "\n",
        "    def withdraw(self, amount):\n",
        "        if 0 < amount <= self.__balance:\n",
        "            self.__balance -= amount\n",
        "            print(f\"Withdrawn: {amount}\")\n",
        "        else:\n",
        "            print(\"Invalid withdrawal amount.\")\n",
        "\n",
        "    def get_balance(self):\n",
        "        return f\"Current balance: {self.__balance}\"\n",
        "\n",
        "account = BankAccount(1000)\n",
        "account.deposit(500)\n",
        "account.withdraw(300)\n",
        "print(account.get_balance())\n"
      ],
      "metadata": {
        "colab": {
          "base_uri": "https://localhost:8080/"
        },
        "id": "qzd9kmoK-iFE",
        "outputId": "1c55bfc2-0866-4843-f45a-93150d331df7"
      },
      "execution_count": 7,
      "outputs": [
        {
          "output_type": "stream",
          "name": "stdout",
          "text": [
            "Deposited: 500\n",
            "Withdrawn: 300\n",
            "Current balance: 1200\n"
          ]
        }
      ]
    },
    {
      "cell_type": "markdown",
      "source": [
        "**6. Demonstrate runtime polymorphism using a method play() in a base class Instrument. Derive classes Guitar and Piano that implement their own version of play().**"
      ],
      "metadata": {
        "id": "I5NOKGRf-1MF"
      }
    },
    {
      "cell_type": "code",
      "source": [
        "class Instrument:\n",
        "    def play(self):\n",
        "        return \"Playing music\"\n",
        "\n",
        "class Guitar(Instrument):\n",
        "    def play(self):\n",
        "        return \"Strumming the guitar!\"\n",
        "\n",
        "class Piano(Instrument):\n",
        "    def play(self):\n",
        "        return \"Playing the piano keys!\"\n",
        "\n",
        "instruments = [Guitar(), Piano()]\n",
        "for instrument in instruments:\n",
        "    print(instrument.play())\n"
      ],
      "metadata": {
        "colab": {
          "base_uri": "https://localhost:8080/"
        },
        "id": "eUogz44H-6wf",
        "outputId": "9bd0cabb-95d7-4b01-c976-912a890f670c"
      },
      "execution_count": 8,
      "outputs": [
        {
          "output_type": "stream",
          "name": "stdout",
          "text": [
            "Strumming the guitar!\n",
            "Playing the piano keys!\n"
          ]
        }
      ]
    },
    {
      "cell_type": "markdown",
      "source": [
        "** 7. Create a class MathOperations with a class method add_numbers() to add two numbers and a static\n",
        "method subtract_numbers() to subtract two numbers**"
      ],
      "metadata": {
        "id": "NpY12JCw_RRA"
      }
    },
    {
      "cell_type": "code",
      "source": [
        "class MathOperations:\n",
        "    @classmethod\n",
        "    def add_numbers(cls, a, b):\n",
        "        return a + b\n",
        "\n",
        "    @staticmethod\n",
        "    def subtract_numbers(a, b):\n",
        "        return a - b\n",
        "print(MathOperations.add_numbers(10, 5))\n",
        "print(MathOperations.subtract_numbers(10, 5))\n"
      ],
      "metadata": {
        "colab": {
          "base_uri": "https://localhost:8080/"
        },
        "id": "qjEUqCAYABld",
        "outputId": "d866ddfe-3a02-44aa-92d1-df3c1bcf3831"
      },
      "execution_count": 10,
      "outputs": [
        {
          "output_type": "stream",
          "name": "stdout",
          "text": [
            "15\n",
            "5\n"
          ]
        }
      ]
    },
    {
      "cell_type": "markdown",
      "source": [
        "**8. Implement a class Person with a class method to count the total number of persons created.**"
      ],
      "metadata": {
        "id": "H8Pp8JtFARKc"
      }
    },
    {
      "cell_type": "code",
      "source": [
        "class Person:\n",
        "    count = 0\n",
        "    def __init__(self, name):\n",
        "        self.name = name\n",
        "        Person.count += 1\n",
        "\n",
        "    @classmethod\n",
        "    def total_persons(cls):\n",
        "        return f\"Total Persons Created: {cls.count}\"\n",
        "p1 = Person(\"Alice\")\n",
        "p2 = Person(\"Bob\")\n",
        "p3 = Person(\"Charlie\")\n",
        "\n",
        "print(Person.total_persons())\n"
      ],
      "metadata": {
        "colab": {
          "base_uri": "https://localhost:8080/"
        },
        "id": "nitOpod3AX_L",
        "outputId": "118ad2fc-c616-4b8e-e701-2d8b63cd2ccb"
      },
      "execution_count": 11,
      "outputs": [
        {
          "output_type": "stream",
          "name": "stdout",
          "text": [
            "Total Persons Created: 3\n"
          ]
        }
      ]
    },
    {
      "cell_type": "markdown",
      "source": [
        "**9. Write a class Fraction with attributes numerator and denominator. Override the str method to display the\n",
        "fraction as \"numerator/denominator\".**"
      ],
      "metadata": {
        "id": "CJEY3O0YA59K"
      }
    },
    {
      "cell_type": "code",
      "source": [
        "class Fraction:\n",
        "    def __init__(self, numerator, denominator):\n",
        "        self.numerator = numerator\n",
        "        self.denominator = denominator\n",
        "\n",
        "    def __str__(self):\n",
        "        return f\"{self.numerator}/{self.denominator}\"\n",
        "\n",
        "frac = Fraction(3, 4)\n",
        "print(frac)\n"
      ],
      "metadata": {
        "colab": {
          "base_uri": "https://localhost:8080/"
        },
        "id": "O-PW7hosA-Sf",
        "outputId": "10e2397f-c853-45ec-e57d-0e8592034866"
      },
      "execution_count": 12,
      "outputs": [
        {
          "output_type": "stream",
          "name": "stdout",
          "text": [
            "3/4\n"
          ]
        }
      ]
    },
    {
      "cell_type": "markdown",
      "source": [
        "**10. Demonstrate operator overloading by creating a class Vector and overriding the add method to add two\n",
        "vectors.**"
      ],
      "metadata": {
        "id": "SM0HSvsTBPBs"
      }
    },
    {
      "cell_type": "code",
      "source": [
        "class Vector:\n",
        "    def __init__(self, x, y):\n",
        "        self.x = x\n",
        "        self.y = y\n",
        "\n",
        "    def __add__(self, other):\n",
        "        return Vector(self.x + other.x, self.y + other.y)\n",
        "\n",
        "    def __str__(self):\n",
        "        return f\"({self.x}, {self.y})\"\n",
        "\n",
        "v1 = Vector(2, 3)\n",
        "v2 = Vector(4, 5)\n",
        "result = v1 + v2\n",
        "\n",
        "print(result)\n"
      ],
      "metadata": {
        "colab": {
          "base_uri": "https://localhost:8080/"
        },
        "id": "2t7tFGeWBbYQ",
        "outputId": "01a0e38c-db2a-4b60-cb50-2e02c19a92a9"
      },
      "execution_count": 13,
      "outputs": [
        {
          "output_type": "stream",
          "name": "stdout",
          "text": [
            "(6, 8)\n"
          ]
        }
      ]
    },
    {
      "cell_type": "markdown",
      "source": [
        " **11. Create a class Person with attributes name and age. Add a method greet() that prints \"Hello, my name is\n",
        "{name} and I am {age} years old.\"**"
      ],
      "metadata": {
        "id": "F4mFEEvhBn3z"
      }
    },
    {
      "cell_type": "code",
      "source": [
        "class Person:\n",
        "    def __init__(self, name, age):\n",
        "        self.name = name\n",
        "        self.age = age\n",
        "\n",
        "    def greet(self):\n",
        "        print(f\"Hello, my name is {self.name} and I am {self.age} years old.\")\n",
        "p1 = Person(\"siddharth\", 19)\n",
        "p1.greet()"
      ],
      "metadata": {
        "colab": {
          "base_uri": "https://localhost:8080/"
        },
        "id": "9iW8wm2-BxnO",
        "outputId": "b3b9aa5a-49b5-4929-8c62-909a52d7c52b"
      },
      "execution_count": 15,
      "outputs": [
        {
          "output_type": "stream",
          "name": "stdout",
          "text": [
            "Hello, my name is siddharth and I am 19 years old.\n"
          ]
        }
      ]
    },
    {
      "cell_type": "markdown",
      "source": [
        "**12. Implement a class Student with attributes name and grades. Create a method average_grade() to compute\n",
        "the average of the grades.**"
      ],
      "metadata": {
        "id": "uHEyu9FRCCRl"
      }
    },
    {
      "cell_type": "code",
      "source": [
        "class Student:\n",
        "    def __init__(self, name, grades):\n",
        "        self.name = name\n",
        "        self.grades = grades\n",
        "\n",
        "    def average_grade(self):\n",
        "        return sum(self.grades) / len(self.grades) if self.grades else 0\n",
        "\n",
        "student1 = Student(\"siddharth\", [85, 90, 78, 92])\n",
        "student2 = Student(\"nomita\", [88, 76, 95, 89])\n",
        "\n",
        "print(f\"{student1.name}'s Average Grade: {student1.average_grade()}\")\n",
        "print(f\"{student2.name}'s Average Grade: {student2.average_grade()}\")\n"
      ],
      "metadata": {
        "colab": {
          "base_uri": "https://localhost:8080/"
        },
        "id": "Va34RN2MCJIs",
        "outputId": "a84d14bd-f842-4ac4-96d5-69fbd3ecc18e"
      },
      "execution_count": 17,
      "outputs": [
        {
          "output_type": "stream",
          "name": "stdout",
          "text": [
            "siddharth's Average Grade: 86.25\n",
            "nomita's Average Grade: 87.0\n"
          ]
        }
      ]
    },
    {
      "cell_type": "markdown",
      "source": [
        "**13. Create a class Rectangle with methods set_dimensions() to set the dimensions and area() to calculate the\n",
        "area.**"
      ],
      "metadata": {
        "id": "Y9RdDfixCb5n"
      }
    },
    {
      "cell_type": "code",
      "source": [
        "class Rectangle:\n",
        "    def __init__(self, length=0, width=0):\n",
        "        self.length = length\n",
        "        self.width = width\n",
        "\n",
        "    def set_dimensions(self, length, width):\n",
        "        self.length = length\n",
        "        self.width = width\n",
        "\n",
        "    def area(self):\n",
        "        return self.length * self.width\n",
        "rect = Rectangle()\n",
        "rect.set_dimensions(5, 10)\n",
        "print(\"Area of Rectangle:\", rect.area())\n"
      ],
      "metadata": {
        "colab": {
          "base_uri": "https://localhost:8080/"
        },
        "id": "KvWIJwyYChwS",
        "outputId": "4695017e-0613-4cb4-a3d7-915245fe67a6"
      },
      "execution_count": 18,
      "outputs": [
        {
          "output_type": "stream",
          "name": "stdout",
          "text": [
            "Area of Rectangle: 50\n"
          ]
        }
      ]
    },
    {
      "cell_type": "markdown",
      "source": [
        "**14. Create a class Employee with a method calculate_salary() that computes the salary based on hours worked\n",
        "and hourly rate. Create a derived class Manager that adds a bonus to the salary**"
      ],
      "metadata": {
        "id": "BmTLSzX7Cs_-"
      }
    },
    {
      "cell_type": "code",
      "source": [
        "class Employee:\n",
        "    def __init__(self, name, hours_worked, hourly_rate):\n",
        "        self.name = name\n",
        "        self.hours_worked = hours_worked\n",
        "        self.hourly_rate = hourly_rate\n",
        "\n",
        "    def calculate_salary(self):\n",
        "        return self.hours_worked * self.hourly_rate\n",
        "\n",
        "class Manager(Employee):\n",
        "    def __init__(self, name, hours_worked, hourly_rate, bonus):\n",
        "        super().__init__(name, hours_worked, hourly_rate)\n",
        "        self.bonus = bonus\n",
        "\n",
        "    def calculate_salary(self):\n",
        "        return super().calculate_salary() + self.bonus\n",
        "emp = Employee(\"siddhart\", 40, 20)\n",
        "mgr = Manager(\"ajay\", 40, 30, 500)\n",
        "\n",
        "print(f\"{emp.name}'s Salary: ${emp.calculate_salary()}\")\n",
        "print(f\"{mgr.name}'s Salary: ${mgr.calculate_salary()}\")\n"
      ],
      "metadata": {
        "colab": {
          "base_uri": "https://localhost:8080/"
        },
        "id": "Msu7nygkCzDy",
        "outputId": "5b5f4214-c697-4faa-825b-8211a393b211"
      },
      "execution_count": 20,
      "outputs": [
        {
          "output_type": "stream",
          "name": "stdout",
          "text": [
            "siddhart's Salary: $800\n",
            "ajay's Salary: $1700\n"
          ]
        }
      ]
    },
    {
      "cell_type": "markdown",
      "source": [
        "**15. Create a class Product with attributes name, price, and quantity. Implement a method total_price() that\n",
        "calculates the total price of the product.**"
      ],
      "metadata": {
        "id": "7UdktPzQDGAM"
      }
    },
    {
      "cell_type": "code",
      "source": [
        "class Product:\n",
        "    def __init__(self, name, price, quantity):\n",
        "        self.name = name\n",
        "        self.price = price\n",
        "        self.quantity = quantity\n",
        "\n",
        "    def total_price(self):\n",
        "        return self.price * self.quantity\n",
        "\n",
        "product1 = Product(\"Laptop\", 50000, 2)\n",
        "print(f\"Total Price of {product1.name}: ₹{product1.total_price()}\")\n"
      ],
      "metadata": {
        "colab": {
          "base_uri": "https://localhost:8080/"
        },
        "id": "hn7by62_D_Vr",
        "outputId": "58c84f2a-d1b1-4998-e5d8-967d789790b8"
      },
      "execution_count": 22,
      "outputs": [
        {
          "output_type": "stream",
          "name": "stdout",
          "text": [
            "Total Price of Laptop: ₹100000\n"
          ]
        }
      ]
    },
    {
      "cell_type": "markdown",
      "source": [
        "**16. Create a class Animal with an abstract method sound(). Create two derived classes Cow and Sheep that\n",
        "implement the sound() method**"
      ],
      "metadata": {
        "id": "YvBSUBhAEIPu"
      }
    },
    {
      "cell_type": "code",
      "source": [
        "from abc import ABC, abstractmethod\n",
        "\n",
        "class Animal(ABC):\n",
        "    @abstractmethod\n",
        "    def sound(self):\n",
        "        pass\n",
        "\n",
        "class Cow(Animal):\n",
        "    def sound(self):\n",
        "        return \"Moo!\"\n",
        "\n",
        "class Sheep(Animal):\n",
        "    def sound(self):\n",
        "        return \"Baa!\"\n",
        "\n",
        "animals = [Cow(), Sheep()]\n",
        "for animal in animals:\n",
        "    print(animal.sound())"
      ],
      "metadata": {
        "colab": {
          "base_uri": "https://localhost:8080/"
        },
        "id": "z0IMSwqeENsa",
        "outputId": "73b5121a-5f0c-4768-84ef-9953ede437c9"
      },
      "execution_count": 24,
      "outputs": [
        {
          "output_type": "stream",
          "name": "stdout",
          "text": [
            "Moo!\n",
            "Baa!\n"
          ]
        }
      ]
    },
    {
      "cell_type": "markdown",
      "source": [
        "**17. Create a class Book with attributes title, author, and year_published. Add a method get_book_info() that\n",
        "returns a formatted string with the book's details.**"
      ],
      "metadata": {
        "id": "fdhvYUMcEgX-"
      }
    },
    {
      "cell_type": "code",
      "source": [
        "class Book:\n",
        "    def __init__(self, title, author, year_published):\n",
        "        self.title = title\n",
        "        self.author = author\n",
        "        self.year_published = year_published\n",
        "\n",
        "    def get_book_info(self):\n",
        "        return f\"Title: {self.title}, Author: {self.author}, Year Published: {self.year_published}\"\n",
        "\n",
        "book1 = Book(\"The Great Gatsby\", \"F. Scott Fitzgerald\", 1925)\n",
        "print(book1.get_book_info())\n"
      ],
      "metadata": {
        "colab": {
          "base_uri": "https://localhost:8080/"
        },
        "id": "VH1aNP4lEo2i",
        "outputId": "6a0e2707-4a7f-4241-d7ec-1be02520a296"
      },
      "execution_count": 25,
      "outputs": [
        {
          "output_type": "stream",
          "name": "stdout",
          "text": [
            "Title: The Great Gatsby, Author: F. Scott Fitzgerald, Year Published: 1925\n"
          ]
        }
      ]
    },
    {
      "cell_type": "markdown",
      "source": [
        "**18. Create a class House with attributes address and price. Create a derived class Mansion that adds an\n",
        "attribute number_of_rooms.**"
      ],
      "metadata": {
        "id": "5fcl61ydE1_U"
      }
    },
    {
      "cell_type": "code",
      "source": [
        "class House:\n",
        "    def __init__(self, address, price):\n",
        "        self.address = address\n",
        "        self.price = price\n",
        "\n",
        "    def get_info(self):\n",
        "        return f\"Address: {self.address}, Price: ₹{self.price}\"\n",
        "\n",
        "class Mansion(House):\n",
        "    def __init__(self, address, price, number_of_rooms):\n",
        "        super().__init__(address, price)\n",
        "        self.number_of_rooms = number_of_rooms\n",
        "\n",
        "    def get_info(self):\n",
        "        return super().get_info() + f\", Rooms: {self.number_of_rooms}\"\n",
        "\n",
     
        "mansion = Mansion(\"123 Luxury St\", 50000000, 10)\n",
        "print(mansion.get_info())\n"
      ],
      "metadata": {
        "colab": {
          "base_uri": "https://localhost:8080/"
        },
        "id": "Pxu4mHIbE8Zm",
        "outputId": "6e65ed93-8825-422f-9a77-39d0620cb0b6"
      },
      "execution_count": 26,
      "outputs": [
        {
          "output_type": "stream",
          "name": "stdout",
          "text": [
            "Address: 123 Luxury St, Price: ₹50000000, Rooms: 10\n"
          ]
        }
      ]
    }
  ]
}
